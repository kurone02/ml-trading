{
 "cells": [
  {
   "cell_type": "code",
   "execution_count": 2,
   "metadata": {},
   "outputs": [],
   "source": [
    "import pandas as pd\n",
    "from pandas_datareader import data\n",
    "import yfinance as yf\n",
    "import numpy as np\n",
    "import matplotlib.pyplot as plt\n",
    "from utils import load_financial_data, plot_ts, plot_multi_ts, sharpe_ratio, rate_of_return\n",
    "import FinanceDataReader as fdr "
   ]
  },
  {
   "cell_type": "code",
   "execution_count": 2,
   "metadata": {},
   "outputs": [],
   "source": [
    "from markov import MarkovStrategy, markov_train, markov_test, markov_benchmark"
   ]
  },
  {
   "cell_type": "code",
   "execution_count": 7,
   "metadata": {},
   "outputs": [],
   "source": [
    "def find_tickers_sp500(sector):\n",
    "    df_sp500 = fdr.StockListing('S&P500') # list of stocks in S&P500\n",
    "    tickers = list(df_sp500[df_sp500['Sector']==sector]['Symbol']) # Filter those in the sector\n",
    "    return tickers # Return the tickers"
   ]
  },
  {
   "cell_type": "code",
   "execution_count": 1,
   "metadata": {},
   "outputs": [],
   "source": [
    "def find_tickers_dj30(sector):\n",
    "    df_sp500 = fdr.StockListing('DJI') # list of stocks in S&P500\n",
    "    tickers = list(df_sp500[df_sp500['Sector']==sector]['Symbol']) # Filter those in the sector\n",
    "    return tickers # Return the tickers"
   ]
  },
  {
   "cell_type": "code",
   "execution_count": 6,
   "metadata": {},
   "outputs": [
    {
     "name": "stdout",
     "output_type": "stream",
     "text": [
      "    Symbol                Name                  Sector  \\\n",
      "0      MMM                  3M             Industrials   \n",
      "1      AOS         A. O. Smith             Industrials   \n",
      "2      ABT              Abbott             Health Care   \n",
      "3     ABBV              AbbVie             Health Care   \n",
      "4      ACN           Accenture  Information Technology   \n",
      "..     ...                 ...                     ...   \n",
      "498    XYL          Xylem Inc.             Industrials   \n",
      "499    YUM         Yum! Brands  Consumer Discretionary   \n",
      "500   ZBRA  Zebra Technologies  Information Technology   \n",
      "501    ZBH       Zimmer Biomet             Health Care   \n",
      "502    ZTS              Zoetis             Health Care   \n",
      "\n",
      "                                         Industry  \n",
      "0                        Industrial Conglomerates  \n",
      "1                               Building Products  \n",
      "2                           Health Care Equipment  \n",
      "3                                   Biotechnology  \n",
      "4                  IT Consulting & Other Services  \n",
      "..                                            ...  \n",
      "498  Industrial Machinery & Supplies & Components  \n",
      "499                                   Restaurants  \n",
      "500            Electronic Equipment & Instruments  \n",
      "501                         Health Care Equipment  \n",
      "502                               Pharmaceuticals  \n",
      "\n",
      "[503 rows x 4 columns]\n",
      "['Industrials', 'Health Care', 'Information Technology', 'Utilities', 'Financials', 'Materials', 'Consumer Discretionary', 'Real Estate', 'Communication Services', 'Consumer Staples', 'Energy']\n"
     ]
    }
   ],
   "source": [
    "# check S&P 500 stocks\n",
    "df_sp500 = fdr.StockListing('S&P500')\n",
    "print(df_sp500)\n",
    "print(list(df_sp500['Sector'].unique()))"
   ]
  },
  {
   "cell_type": "code",
   "execution_count": 8,
   "metadata": {},
   "outputs": [
    {
     "name": "stdout",
     "output_type": "stream",
     "text": [
      "['ACN', 'ADBE', 'AMD', 'AKAM', 'APH', 'ADI', 'ANSS', 'AAPL', 'AMAT', 'ANET', 'ADSK', 'AVGO', 'CDNS', 'CDW', 'CSCO', 'CTSH', 'GLW', 'ENPH', 'EPAM', 'FFIV', 'FICO', 'FSLR', 'FTNT', 'IT', 'GEN', 'HPE', 'HPQ', 'IBM', 'INTC', 'INTU', 'JBL', 'JNPR', 'KEYS', 'KLAC', 'LRCX', 'MCHP', 'MU', 'MSFT', 'MPWR', 'MSI', 'NTAP', 'NVDA', 'NXPI', 'ON', 'ORCL', 'PANW', 'PTC', 'QRVO', 'QCOM', 'ROP', 'CRM', 'STX', 'NOW', 'SWKS', 'SMCI', 'SNPS', 'TEL', 'TDY', 'TER', 'TXN', 'TRMB', 'TYL', 'VRSN', 'WDC', 'ZBRA']\n"
     ]
    }
   ],
   "source": [
    "print(find_tickers_sp500(\"Information Technology\"))"
   ]
  },
  {
   "cell_type": "code",
   "execution_count": 12,
   "metadata": {},
   "outputs": [
    {
     "name": "stdout",
     "output_type": "stream",
     "text": [
      "tickers=(\"ACN\" \"ADBE\" \"AMD\" \"AKAM\" \"APH\" \"ADI\" \"ANSS\" \"AAPL\" \"AMAT\" \"ANET\" \"ADSK\" \"AVGO\" \"CDNS\" \"CDW\" \"CSCO\" \"CTSH\" \"GLW\" \"ENPH\" \"EPAM\" \"FFIV\" \"FICO\" \"FSLR\" \"FTNT\" \"IT\" \"GEN\" \"HPE\" \"HPQ\" \"IBM\" \"INTC\" \"INTU\" \"JBL\" \"JNPR\" \"KEYS\" \"KLAC\" \"LRCX\" \"MCHP\" \"MU\" \"MSFT\" \"MPWR\" \"MSI\" \"NTAP\" \"NVDA\" \"NXPI\" \"ON\" \"ORCL\" \"PANW\" \"PTC\" \"QRVO\" \"QCOM\" \"ROP\" \"CRM\" \"STX\" \"NOW\" \"SWKS\" \"SMCI\" \"SNPS\" \"TEL\" \"TDY\" \"TER\" \"TXN\" \"TRMB\" \"TYL\" \"VRSN\" \"WDC\" \"ZBRA\" )\n"
     ]
    }
   ],
   "source": [
    "print(\"tickers=(\", end='')\n",
    "for tic in find_tickers_sp500(\"Information Technology\"):\n",
    "    print(f\"\\\"{tic}\\\" \", end='')\n",
    "print(\")\")"
   ]
  },
  {
   "cell_type": "code",
   "execution_count": 16,
   "metadata": {},
   "outputs": [],
   "source": [
    "def backtest(sector,\n",
    "             threshold_to_buy,\n",
    "             threshold_to_sell,\n",
    "             lookback):\n",
    "    tickers = find_tickers_sp500(sector)\n",
    "\n",
    "    strategy_performances = []\n",
    "    for ticker in tickers:\n",
    "        perf = markov_benchmark(\n",
    "            ticker=ticker,\n",
    "            train_start_date='2010-01-01',\n",
    "            train_end_date='2022-12-31',\n",
    "            test_start_date='2023-01-01',\n",
    "            test_end_date='2023-12-31',\n",
    "            threshold_to_buy=threshold_to_buy,\n",
    "            threshold_to_sell=threshold_to_sell,\n",
    "            lookback=lookback,\n",
    "            initial_cash=1000,\n",
    "            num_share_per_trade=1,\n",
    "        )\n",
    "\n",
    "        strategy_performances.append({\n",
    "            \"strategy\": perf[\"wealth\"].pct_change(),\n",
    "            \"buy and hold\": perf[\"price\"].pct_change(),\n",
    "        })\n",
    "\n",
    "    results = []\n",
    "\n",
    "    results.append(f\".{'':=^8}.{'':=^15}.{'':=^8}.{'':=^8}.{'':=^8}.\")\n",
    "    results.append(f\"|{'Ticker':^8}|{'Metric':^15}|{'Markov':^8}|{'Stock':^8}|{'Better':^8}|\")\n",
    "    results.append(f\"|{'':=^8}|{'':=^15}|{'':=^8}|{'':=^8}|{'':=^8}|\")\n",
    "    num_better = 0\n",
    "    for i in range(len(tickers)):\n",
    "        strat = strategy_performances[i][\"strategy\"]\n",
    "        stock = strategy_performances[i][\"buy and hold\"]\n",
    "\n",
    "        strat_sharpe = sharpe_ratio(strat)\n",
    "        stock_sharpe = sharpe_ratio(stock)\n",
    "        is_better = strat_sharpe > stock_sharpe\n",
    "\n",
    "        num_better += is_better\n",
    "\n",
    "        results.append(f\"|{'':^8}|{'Sharpe ratio':^15}|{strat_sharpe:^8.3f}|{stock_sharpe:^8.3f}|{'':^8}|\")\n",
    "        results.append(f\"|{tickers[i]:^8}|{'Expected return':^15}|{strat.mean():^8.3f}|{stock.mean():^8.3f}|{is_better:^8}|\")\n",
    "        results.append(f\"|{'':^8}|{'Volatility':^15}|{strat.std():^8.3f}|{stock.std():^8.3f}|{'':^8}|\")\n",
    "        results.append(f\"|{'':_^8}|{'':_^15}|{'':_^8}|{'':_^8}|{'':_^8}|\")\n",
    "\n",
    "    results.append(f\"|{'':=^8}|{'':=^15}|{'':=^8}|{'':=^8}|{'':=^8}|\")\n",
    "\n",
    "    results.append(f\"The number of better cases: {num_better}\")\n",
    "\n",
    "    return \"\\n\".join(results)"
   ]
  },
  {
   "cell_type": "code",
   "execution_count": 17,
   "metadata": {},
   "outputs": [],
   "source": [
    "def save_txt(data, file_path):\n",
    "    with open(file_path, \"w\") as f:\n",
    "        f.write(data)"
   ]
  },
  {
   "cell_type": "markdown",
   "metadata": {},
   "source": [
    "## Backtest against IT stocks"
   ]
  },
  {
   "cell_type": "code",
   "execution_count": 18,
   "metadata": {},
   "outputs": [
    {
     "name": "stdout",
     "output_type": "stream",
     "text": [
      "File data found...reading ACN data\n",
      "File data found...reading ACN data\n",
      "File data found...reading ADBE data\n",
      "File data found...reading ADBE data\n",
      "File data found...reading AMD data\n",
      "File data found...reading AMD data\n",
      "File data found...reading AKAM data\n",
      "File data found...reading AKAM data\n",
      "File data found...reading APH data\n",
      "File data found...reading APH data\n",
      "File data found...reading ADI data\n",
      "File data found...reading ADI data\n",
      "File data found...reading ANSS data\n",
      "File data found...reading ANSS data\n",
      "File data found...reading AAPL data\n",
      "File data found...reading AAPL data\n",
      "File data found...reading AMAT data\n",
      "File data found...reading AMAT data\n",
      "File data found...reading ANET data\n",
      "File data found...reading ANET data\n",
      "File data found...reading ADSK data\n",
      "File data found...reading ADSK data\n",
      "File data found...reading AVGO data\n",
      "File data found...reading AVGO data\n",
      "File data found...reading CDNS data\n",
      "File data found...reading CDNS data\n",
      "File data found...reading CDW data\n",
      "File data found...reading CDW data\n",
      "File data found...reading CSCO data\n",
      "File data found...reading CSCO data\n",
      "File data found...reading CTSH data\n",
      "File data found...reading CTSH data\n",
      "File data found...reading GLW data\n",
      "File data found...reading GLW data\n",
      "File data found...reading ENPH data\n",
      "File data found...reading ENPH data\n",
      "File data found...reading EPAM data\n",
      "File data found...reading EPAM data\n",
      "File data found...reading FFIV data\n",
      "File data found...reading FFIV data\n",
      "File data found...reading FICO data\n",
      "File data found...reading FICO data\n",
      "File data found...reading FSLR data\n",
      "File data found...reading FSLR data\n",
      "File data found...reading FTNT data\n",
      "File data found...reading FTNT data\n",
      "File data found...reading IT data\n",
      "File data found...reading IT data\n",
      "File data found...reading GEN data\n",
      "File data found...reading GEN data\n",
      "File data found...reading HPE data\n",
      "File data found...reading HPE data\n",
      "File data found...reading HPQ data\n",
      "File data found...reading HPQ data\n",
      "File data found...reading IBM data\n",
      "File data found...reading IBM data\n",
      "File data found...reading INTC data\n",
      "File data found...reading INTC data\n",
      "File data found...reading INTU data\n",
      "File data found...reading INTU data\n",
      "File data found...reading JBL data\n",
      "File data found...reading JBL data\n",
      "File data found...reading JNPR data\n",
      "File data found...reading JNPR data\n",
      "File data found...reading KEYS data\n",
      "File data found...reading KEYS data\n",
      "File data found...reading KLAC data\n",
      "File data found...reading KLAC data\n",
      "File data found...reading LRCX data\n",
      "File data found...reading LRCX data\n",
      "File data found...reading MCHP data\n",
      "File data found...reading MCHP data\n",
      "File data found...reading MU data\n",
      "File data found...reading MU data\n",
      "File data found...reading MSFT data\n",
      "File data found...reading MSFT data\n",
      "File data found...reading MPWR data\n",
      "File data found...reading MPWR data\n",
      "File data found...reading MSI data\n",
      "File data found...reading MSI data\n",
      "File data found...reading NTAP data\n",
      "File data found...reading NTAP data\n",
      "File data found...reading NVDA data\n",
      "File data found...reading NVDA data\n",
      "File data found...reading NXPI data\n",
      "File data found...reading NXPI data\n",
      "File data found...reading ON data\n",
      "File data found...reading ON data\n",
      "File data found...reading ORCL data\n",
      "File data found...reading ORCL data\n",
      "File data found...reading PANW data\n",
      "File data found...reading PANW data\n",
      "File data found...reading PTC data\n",
      "File data found...reading PTC data\n",
      "File data found...reading QRVO data\n",
      "File data found...reading QRVO data\n",
      "File data found...reading QCOM data\n",
      "File data found...reading QCOM data\n",
      "File data found...reading ROP data\n",
      "File data found...reading ROP data\n",
      "File data found...reading CRM data\n",
      "File data found...reading CRM data\n",
      "File data found...reading STX data\n",
      "File data found...reading STX data\n",
      "File data found...reading NOW data\n",
      "File data found...reading NOW data\n",
      "File data found...reading SWKS data\n",
      "File data found...reading SWKS data\n",
      "File data found...reading SMCI data\n",
      "File data found...reading SMCI data\n",
      "File data found...reading SNPS data\n",
      "File data found...reading SNPS data\n",
      "File data found...reading TEL data\n",
      "File data found...reading TEL data\n",
      "File data found...reading TDY data\n",
      "File data found...reading TDY data\n",
      "File data found...reading TER data\n",
      "File data found...reading TER data\n",
      "File data found...reading TXN data\n",
      "File data found...reading TXN data\n",
      "File data found...reading TRMB data\n",
      "File data found...reading TRMB data\n",
      "File data found...reading TYL data\n",
      "File data found...reading TYL data\n",
      "File data found...reading VRSN data\n",
      "File data found...reading VRSN data\n",
      "File data found...reading WDC data\n",
      "File data found...reading WDC data\n",
      "File data found...reading ZBRA data\n",
      "File data found...reading ZBRA data\n"
     ]
    }
   ],
   "source": [
    "results = backtest(\n",
    "    sector=\"Information Technology\",\n",
    "    threshold_to_buy=1,\n",
    "    threshold_to_sell=1,\n",
    "    lookback=3,\n",
    ")\n",
    "save_txt(results, \"./results/IT_3_1_1.md\")"
   ]
  },
  {
   "cell_type": "code",
   "execution_count": 19,
   "metadata": {},
   "outputs": [
    {
     "name": "stdout",
     "output_type": "stream",
     "text": [
      "File data found...reading ACN data\n",
      "File data found...reading ACN data\n",
      "File data found...reading ADBE data\n",
      "File data found...reading ADBE data\n",
      "File data found...reading AMD data\n",
      "File data found...reading AMD data\n",
      "File data found...reading AKAM data\n",
      "File data found...reading AKAM data\n",
      "File data found...reading APH data\n",
      "File data found...reading APH data\n",
      "File data found...reading ADI data\n",
      "File data found...reading ADI data\n",
      "File data found...reading ANSS data\n",
      "File data found...reading ANSS data\n",
      "File data found...reading AAPL data\n",
      "File data found...reading AAPL data\n",
      "File data found...reading AMAT data\n",
      "File data found...reading AMAT data\n",
      "File data found...reading ANET data\n",
      "File data found...reading ANET data\n",
      "File data found...reading ADSK data\n",
      "File data found...reading ADSK data\n",
      "File data found...reading AVGO data\n",
      "File data found...reading AVGO data\n",
      "File data found...reading CDNS data\n",
      "File data found...reading CDNS data\n",
      "File data found...reading CDW data\n",
      "File data found...reading CDW data\n",
      "File data found...reading CSCO data\n",
      "File data found...reading CSCO data\n",
      "File data found...reading CTSH data\n",
      "File data found...reading CTSH data\n",
      "File data found...reading GLW data\n",
      "File data found...reading GLW data\n",
      "File data found...reading ENPH data\n",
      "File data found...reading ENPH data\n",
      "File data found...reading EPAM data\n",
      "File data found...reading EPAM data\n",
      "File data found...reading FFIV data\n",
      "File data found...reading FFIV data\n",
      "File data found...reading FICO data\n",
      "File data found...reading FICO data\n",
      "File data found...reading FSLR data\n",
      "File data found...reading FSLR data\n",
      "File data found...reading FTNT data\n",
      "File data found...reading FTNT data\n",
      "File data found...reading IT data\n",
      "File data found...reading IT data\n",
      "File data found...reading GEN data\n",
      "File data found...reading GEN data\n",
      "File data found...reading HPE data\n",
      "File data found...reading HPE data\n",
      "File data found...reading HPQ data\n",
      "File data found...reading HPQ data\n",
      "File data found...reading IBM data\n",
      "File data found...reading IBM data\n",
      "File data found...reading INTC data\n",
      "File data found...reading INTC data\n",
      "File data found...reading INTU data\n",
      "File data found...reading INTU data\n",
      "File data found...reading JBL data\n",
      "File data found...reading JBL data\n",
      "File data found...reading JNPR data\n",
      "File data found...reading JNPR data\n",
      "File data found...reading KEYS data\n",
      "File data found...reading KEYS data\n",
      "File data found...reading KLAC data\n",
      "File data found...reading KLAC data\n",
      "File data found...reading LRCX data\n",
      "File data found...reading LRCX data\n",
      "File data found...reading MCHP data\n",
      "File data found...reading MCHP data\n",
      "File data found...reading MU data\n",
      "File data found...reading MU data\n",
      "File data found...reading MSFT data\n",
      "File data found...reading MSFT data\n",
      "File data found...reading MPWR data\n",
      "File data found...reading MPWR data\n",
      "File data found...reading MSI data\n",
      "File data found...reading MSI data\n",
      "File data found...reading NTAP data\n",
      "File data found...reading NTAP data\n",
      "File data found...reading NVDA data\n",
      "File data found...reading NVDA data\n",
      "File data found...reading NXPI data\n",
      "File data found...reading NXPI data\n",
      "File data found...reading ON data\n",
      "File data found...reading ON data\n",
      "File data found...reading ORCL data\n",
      "File data found...reading ORCL data\n",
      "File data found...reading PANW data\n",
      "File data found...reading PANW data\n",
      "File data found...reading PTC data\n",
      "File data found...reading PTC data\n",
      "File data found...reading QRVO data\n",
      "File data found...reading QRVO data\n",
      "File data found...reading QCOM data\n",
      "File data found...reading QCOM data\n",
      "File data found...reading ROP data\n",
      "File data found...reading ROP data\n",
      "File data found...reading CRM data\n",
      "File data found...reading CRM data\n",
      "File data found...reading STX data\n",
      "File data found...reading STX data\n",
      "File data found...reading NOW data\n",
      "File data found...reading NOW data\n",
      "File data found...reading SWKS data\n",
      "File data found...reading SWKS data\n",
      "File data found...reading SMCI data\n",
      "File data found...reading SMCI data\n",
      "File data found...reading SNPS data\n",
      "File data found...reading SNPS data\n",
      "File data found...reading TEL data\n",
      "File data found...reading TEL data\n",
      "File data found...reading TDY data\n",
      "File data found...reading TDY data\n",
      "File data found...reading TER data\n",
      "File data found...reading TER data\n",
      "File data found...reading TXN data\n",
      "File data found...reading TXN data\n",
      "File data found...reading TRMB data\n",
      "File data found...reading TRMB data\n",
      "File data found...reading TYL data\n",
      "File data found...reading TYL data\n",
      "File data found...reading VRSN data\n",
      "File data found...reading VRSN data\n",
      "File data found...reading WDC data\n",
      "File data found...reading WDC data\n",
      "File data found...reading ZBRA data\n",
      "File data found...reading ZBRA data\n"
     ]
    }
   ],
   "source": [
    "results = backtest(\n",
    "    sector=\"Information Technology\",\n",
    "    threshold_to_buy=2,\n",
    "    threshold_to_sell=2,\n",
    "    lookback=5,\n",
    ")\n",
    "save_txt(results, \"./results/IT_5_2_2.md\")"
   ]
  },
  {
   "cell_type": "markdown",
   "metadata": {},
   "source": [
    "## Backtest against Energy stocks"
   ]
  },
  {
   "cell_type": "code",
   "execution_count": 21,
   "metadata": {},
   "outputs": [
    {
     "name": "stdout",
     "output_type": "stream",
     "text": [
      "File data found...reading APA data\n",
      "File data found...reading APA data\n",
      "File data found...reading BKR data\n",
      "File data found...reading BKR data\n",
      "File data found...reading CVX data\n",
      "File data found...reading CVX data\n",
      "File data found...reading COP data\n",
      "File data found...reading COP data\n",
      "File data found...reading CTRA data\n",
      "File data found...reading CTRA data\n",
      "File data found...reading DVN data\n",
      "File data found...reading DVN data\n",
      "File data found...reading FANG data\n",
      "File data found...reading FANG data\n",
      "File data found...reading EOG data\n",
      "File data found...reading EOG data\n",
      "File data found...reading EQT data\n",
      "File data found...reading EQT data\n",
      "File data found...reading XOM data\n",
      "File data found...reading XOM data\n",
      "File data found...reading HAL data\n",
      "File data found...reading HAL data\n",
      "File data found...reading HES data\n",
      "File data found...reading HES data\n",
      "File data found...reading KMI data\n",
      "File data found...reading KMI data\n",
      "File data found...reading MRO data\n",
      "File data found...reading MRO data\n",
      "File data found...reading MPC data\n",
      "File data found...reading MPC data\n",
      "File data found...reading OXY data\n",
      "File data found...reading OXY data\n",
      "File data found...reading OKE data\n",
      "File data found...reading OKE data\n",
      "File data found...reading PSX data\n",
      "File data found...reading PSX data\n",
      "File data found...reading SLB data\n",
      "File data found...reading SLB data\n",
      "File data found...reading TRGP data\n",
      "File data found...reading TRGP data\n",
      "File data found...reading VLO data\n",
      "File data found...reading VLO data\n",
      "File data found...reading WMB data\n",
      "File data found...reading WMB data\n"
     ]
    }
   ],
   "source": [
    "results = backtest(\n",
    "    sector=\"Energy\",\n",
    "    threshold_to_buy=1,\n",
    "    threshold_to_sell=1,\n",
    "    lookback=3,\n",
    ")\n",
    "save_txt(results, \"./results/Energy_3_1_1.md\")"
   ]
  },
  {
   "cell_type": "code",
   "execution_count": 22,
   "metadata": {},
   "outputs": [
    {
     "name": "stdout",
     "output_type": "stream",
     "text": [
      "File data found...reading APA data\n",
      "File data found...reading APA data\n",
      "File data found...reading BKR data\n",
      "File data found...reading BKR data\n",
      "File data found...reading CVX data\n",
      "File data found...reading CVX data\n",
      "File data found...reading COP data\n",
      "File data found...reading COP data\n",
      "File data found...reading CTRA data\n",
      "File data found...reading CTRA data\n",
      "File data found...reading DVN data\n",
      "File data found...reading DVN data\n",
      "File data found...reading FANG data\n",
      "File data found...reading FANG data\n",
      "File data found...reading EOG data\n",
      "File data found...reading EOG data\n",
      "File data found...reading EQT data\n",
      "File data found...reading EQT data\n",
      "File data found...reading XOM data\n",
      "File data found...reading XOM data\n",
      "File data found...reading HAL data\n",
      "File data found...reading HAL data\n",
      "File data found...reading HES data\n",
      "File data found...reading HES data\n",
      "File data found...reading KMI data\n",
      "File data found...reading KMI data\n",
      "File data found...reading MRO data\n",
      "File data found...reading MRO data\n",
      "File data found...reading MPC data\n",
      "File data found...reading MPC data\n",
      "File data found...reading OXY data\n",
      "File data found...reading OXY data\n",
      "File data found...reading OKE data\n",
      "File data found...reading OKE data\n",
      "File data found...reading PSX data\n",
      "File data found...reading PSX data\n",
      "File data found...reading SLB data\n",
      "File data found...reading SLB data\n",
      "File data found...reading TRGP data\n",
      "File data found...reading TRGP data\n",
      "File data found...reading VLO data\n",
      "File data found...reading VLO data\n",
      "File data found...reading WMB data\n",
      "File data found...reading WMB data\n"
     ]
    }
   ],
   "source": [
    "results = backtest(\n",
    "    sector=\"Energy\",\n",
    "    threshold_to_buy=2,\n",
    "    threshold_to_sell=2,\n",
    "    lookback=5,\n",
    ")\n",
    "save_txt(results, \"./results/Energy_5_2_2.md\")"
   ]
  },
  {
   "cell_type": "markdown",
   "metadata": {},
   "source": [
    "## Backtest against Consumer Staples stocks"
   ]
  },
  {
   "cell_type": "code",
   "execution_count": null,
   "metadata": {},
   "outputs": [
    {
     "data": {
      "text/plain": [
       "array(['Industrials', 'Health Care', 'Information Technology',\n",
       "       'Utilities', 'Financials', 'Materials', 'Consumer Discretionary',\n",
       "       'Real Estate', 'Communication Services', 'Consumer Staples',\n",
       "       'Energy'], dtype=object)"
      ]
     },
     "execution_count": 76,
     "metadata": {},
     "output_type": "execute_result"
    }
   ],
   "source": [
    "df_sp500['Sector'].unique()"
   ]
  },
  {
   "cell_type": "code",
   "execution_count": 30,
   "metadata": {},
   "outputs": [
    {
     "name": "stderr",
     "output_type": "stream",
     "text": [
      "No artists with labels found to put in legend.  Note that artists whose label start with an underscore are ignored when legend() is called with no argument.\n"
     ]
    },
    {
     "data": {
      "image/png": "[encoded data removed]",
      "text/plain": [
       "<Figure size 1400x700 with 1 Axes>"
      ]
     },
     "metadata": {},
     "output_type": "display_data"
    }
   ],
   "source": [
    "plot_ts([1, 0, 2, 6, 4, 7], title=\"\", label_ts=\"\", x_label=\"\", y_label=\"\")"
   ]
  },
  {
   "cell_type": "code",
   "execution_count": 60,
   "metadata": {},
   "outputs": [
    {
     "data": {
      "image/png": "[encoded data removed]",
      "text/plain": [
       "<Figure size 300x300 with 1 Axes>"
      ]
     },
     "metadata": {},
     "output_type": "display_data"
    }
   ],
   "source": [
    "plt.figure(figsize=(3,3))\n",
    "plt.axis('off')\n",
    "plt.plot(14 - np.array([2, 3, 2, 4, 3, 5, 4, 7, 6, 8, 7, 5, 9, 10, 9, 12, 11, 14]), c=\"black\")\n",
    "plt.savefig('demo.png', transparent=True)"
   ]
  }
 ],
 "metadata": {
  "kernelspec": {
   "display_name": "trading",
   "language": "python",
   "name": "python3"
  },
  "language_info": {
   "codemirror_mode": {
    "name": "ipython",
    "version": 3
   },
   "file_extension": ".py",
   "mimetype": "text/x-python",
   "name": "python",
   "nbconvert_exporter": "python",
   "pygments_lexer": "ipython3",
   "version": "3.10.11"
  }
 },
 "nbformat": 4,
 "nbformat_minor": 2
}
